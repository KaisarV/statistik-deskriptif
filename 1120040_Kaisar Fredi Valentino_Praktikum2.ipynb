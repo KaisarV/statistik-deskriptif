{
 "cells": [
  {
   "cell_type": "markdown",
   "id": "665dc2a0",
   "metadata": {},
   "source": [
    "## Import Library"
   ]
  },
  {
   "cell_type": "code",
   "execution_count": 64,
   "id": "663e24a4",
   "metadata": {},
   "outputs": [],
   "source": [
    "import pandas as pd\n",
    "import numpy as np\n",
    "import matplotlib.pyplot as plt\n",
    "import seaborn as sns"
   ]
  },
  {
   "cell_type": "markdown",
   "id": "84aeba9c",
   "metadata": {},
   "source": [
    "## Load Data"
   ]
  },
  {
   "cell_type": "code",
   "execution_count": 3,
   "id": "39b44a0b",
   "metadata": {},
   "outputs": [
    {
     "data": {
      "text/html": [
       "<div>\n",
       "<style scoped>\n",
       "    .dataframe tbody tr th:only-of-type {\n",
       "        vertical-align: middle;\n",
       "    }\n",
       "\n",
       "    .dataframe tbody tr th {\n",
       "        vertical-align: top;\n",
       "    }\n",
       "\n",
       "    .dataframe thead th {\n",
       "        text-align: right;\n",
       "    }\n",
       "</style>\n",
       "<table border=\"1\" class=\"dataframe\">\n",
       "  <thead>\n",
       "    <tr style=\"text-align: right;\">\n",
       "      <th></th>\n",
       "      <th>gender</th>\n",
       "      <th>race/ethnicity</th>\n",
       "      <th>parental level of education</th>\n",
       "      <th>lunch</th>\n",
       "      <th>test preparation course</th>\n",
       "      <th>math score</th>\n",
       "      <th>reading score</th>\n",
       "      <th>writing score</th>\n",
       "    </tr>\n",
       "  </thead>\n",
       "  <tbody>\n",
       "    <tr>\n",
       "      <th>0</th>\n",
       "      <td>female</td>\n",
       "      <td>group B</td>\n",
       "      <td>bachelor's degree</td>\n",
       "      <td>standard</td>\n",
       "      <td>none</td>\n",
       "      <td>72</td>\n",
       "      <td>72</td>\n",
       "      <td>74</td>\n",
       "    </tr>\n",
       "    <tr>\n",
       "      <th>1</th>\n",
       "      <td>female</td>\n",
       "      <td>group C</td>\n",
       "      <td>some college</td>\n",
       "      <td>standard</td>\n",
       "      <td>completed</td>\n",
       "      <td>69</td>\n",
       "      <td>90</td>\n",
       "      <td>88</td>\n",
       "    </tr>\n",
       "    <tr>\n",
       "      <th>2</th>\n",
       "      <td>female</td>\n",
       "      <td>group B</td>\n",
       "      <td>master's degree</td>\n",
       "      <td>standard</td>\n",
       "      <td>none</td>\n",
       "      <td>90</td>\n",
       "      <td>95</td>\n",
       "      <td>93</td>\n",
       "    </tr>\n",
       "    <tr>\n",
       "      <th>3</th>\n",
       "      <td>male</td>\n",
       "      <td>group A</td>\n",
       "      <td>associate's degree</td>\n",
       "      <td>free/reduced</td>\n",
       "      <td>none</td>\n",
       "      <td>47</td>\n",
       "      <td>57</td>\n",
       "      <td>44</td>\n",
       "    </tr>\n",
       "    <tr>\n",
       "      <th>4</th>\n",
       "      <td>male</td>\n",
       "      <td>group C</td>\n",
       "      <td>some college</td>\n",
       "      <td>standard</td>\n",
       "      <td>none</td>\n",
       "      <td>76</td>\n",
       "      <td>78</td>\n",
       "      <td>75</td>\n",
       "    </tr>\n",
       "  </tbody>\n",
       "</table>\n",
       "</div>"
      ],
      "text/plain": [
       "   gender race/ethnicity parental level of education         lunch  \\\n",
       "0  female        group B           bachelor's degree      standard   \n",
       "1  female        group C                some college      standard   \n",
       "2  female        group B             master's degree      standard   \n",
       "3    male        group A          associate's degree  free/reduced   \n",
       "4    male        group C                some college      standard   \n",
       "\n",
       "  test preparation course  math score  reading score  writing score  \n",
       "0                    none          72             72             74  \n",
       "1               completed          69             90             88  \n",
       "2                    none          90             95             93  \n",
       "3                    none          47             57             44  \n",
       "4                    none          76             78             75  "
      ]
     },
     "execution_count": 3,
     "metadata": {},
     "output_type": "execute_result"
    }
   ],
   "source": [
    "Students = pd.read_csv('StudentsPerformance.csv')\n",
    "Students.head()"
   ]
  },
  {
   "cell_type": "code",
   "execution_count": 5,
   "id": "f3f82791",
   "metadata": {},
   "outputs": [
    {
     "name": "stdout",
     "output_type": "stream",
     "text": [
      "<class 'pandas.core.frame.DataFrame'>\n",
      "RangeIndex: 1000 entries, 0 to 999\n",
      "Data columns (total 8 columns):\n",
      " #   Column                       Non-Null Count  Dtype \n",
      "---  ------                       --------------  ----- \n",
      " 0   gender                       1000 non-null   object\n",
      " 1   race/ethnicity               1000 non-null   object\n",
      " 2   parental level of education  1000 non-null   object\n",
      " 3   lunch                        1000 non-null   object\n",
      " 4   test preparation course      1000 non-null   object\n",
      " 5   math score                   1000 non-null   int64 \n",
      " 6   reading score                1000 non-null   int64 \n",
      " 7   writing score                1000 non-null   int64 \n",
      "dtypes: int64(3), object(5)\n",
      "memory usage: 62.6+ KB\n"
     ]
    }
   ],
   "source": [
    "Students.info()"
   ]
  },
  {
   "cell_type": "code",
   "execution_count": 6,
   "id": "eea6c8ce",
   "metadata": {},
   "outputs": [
    {
     "data": {
      "text/html": [
       "<div>\n",
       "<style scoped>\n",
       "    .dataframe tbody tr th:only-of-type {\n",
       "        vertical-align: middle;\n",
       "    }\n",
       "\n",
       "    .dataframe tbody tr th {\n",
       "        vertical-align: top;\n",
       "    }\n",
       "\n",
       "    .dataframe thead th {\n",
       "        text-align: right;\n",
       "    }\n",
       "</style>\n",
       "<table border=\"1\" class=\"dataframe\">\n",
       "  <thead>\n",
       "    <tr style=\"text-align: right;\">\n",
       "      <th></th>\n",
       "      <th>math score</th>\n",
       "      <th>reading score</th>\n",
       "      <th>writing score</th>\n",
       "    </tr>\n",
       "  </thead>\n",
       "  <tbody>\n",
       "    <tr>\n",
       "      <th>count</th>\n",
       "      <td>1000.00000</td>\n",
       "      <td>1000.000000</td>\n",
       "      <td>1000.000000</td>\n",
       "    </tr>\n",
       "    <tr>\n",
       "      <th>mean</th>\n",
       "      <td>66.08900</td>\n",
       "      <td>69.169000</td>\n",
       "      <td>68.054000</td>\n",
       "    </tr>\n",
       "    <tr>\n",
       "      <th>std</th>\n",
       "      <td>15.16308</td>\n",
       "      <td>14.600192</td>\n",
       "      <td>15.195657</td>\n",
       "    </tr>\n",
       "    <tr>\n",
       "      <th>min</th>\n",
       "      <td>0.00000</td>\n",
       "      <td>17.000000</td>\n",
       "      <td>10.000000</td>\n",
       "    </tr>\n",
       "    <tr>\n",
       "      <th>25%</th>\n",
       "      <td>57.00000</td>\n",
       "      <td>59.000000</td>\n",
       "      <td>57.750000</td>\n",
       "    </tr>\n",
       "    <tr>\n",
       "      <th>50%</th>\n",
       "      <td>66.00000</td>\n",
       "      <td>70.000000</td>\n",
       "      <td>69.000000</td>\n",
       "    </tr>\n",
       "    <tr>\n",
       "      <th>75%</th>\n",
       "      <td>77.00000</td>\n",
       "      <td>79.000000</td>\n",
       "      <td>79.000000</td>\n",
       "    </tr>\n",
       "    <tr>\n",
       "      <th>max</th>\n",
       "      <td>100.00000</td>\n",
       "      <td>100.000000</td>\n",
       "      <td>100.000000</td>\n",
       "    </tr>\n",
       "  </tbody>\n",
       "</table>\n",
       "</div>"
      ],
      "text/plain": [
       "       math score  reading score  writing score\n",
       "count  1000.00000    1000.000000    1000.000000\n",
       "mean     66.08900      69.169000      68.054000\n",
       "std      15.16308      14.600192      15.195657\n",
       "min       0.00000      17.000000      10.000000\n",
       "25%      57.00000      59.000000      57.750000\n",
       "50%      66.00000      70.000000      69.000000\n",
       "75%      77.00000      79.000000      79.000000\n",
       "max     100.00000     100.000000     100.000000"
      ]
     },
     "execution_count": 6,
     "metadata": {},
     "output_type": "execute_result"
    }
   ],
   "source": [
    "Students.describe()"
   ]
  },
  {
   "cell_type": "markdown",
   "id": "05433d8f",
   "metadata": {},
   "source": [
    "### Soal 01: Sebutkan 2 tipe data yang dipelajari di kuliah! Tipe data objek di Python berarti termasuk yang mana?\n",
    "Dalam pertemuan pertama di perkuliahan saya mempelajari bahwa secara garis besar tipe data dibagi menjadi 2 yaitu <b>numerikal</b> dan kategorikal. Numerikal dibagi menjadi 2 yaitu <b>continous</b> dan <b>discrete</b>. Continous memiliki sifat bernilai tidak bulat (cth : double, float), sedangkan discrete memiliki nilai yang spesifik (cth : int). \n",
    "Sedangkan kategorikal dibagi menjadi <b>regular</b> dan <b>kategorikal</b>.\n",
    "Sedangkan object pada python merupakan tipe data yang umumnya dapat menyimpan tipe data lain(String, int, float, dll), namun pada kasus ini object masuk ke dalam kategorikal."
   ]
  },
  {
   "cell_type": "markdown",
   "id": "061159d2",
   "metadata": {},
   "source": [
    "## Tahap Analisis : Analisis Deskriptif dan Visualisasi Data"
   ]
  },
  {
   "cell_type": "markdown",
   "id": "19f4a5b5",
   "metadata": {},
   "source": [
    "Mencari rata-rata nilai dari ketiga score yaitu math, reading, dan writing."
   ]
  },
  {
   "cell_type": "code",
   "execution_count": 32,
   "id": "63092dc9",
   "metadata": {
    "scrolled": false
   },
   "outputs": [
    {
     "data": {
      "text/plain": [
       "math score       66.089\n",
       "reading score    69.169\n",
       "writing score    68.054\n",
       "dtype: float64"
      ]
     },
     "execution_count": 32,
     "metadata": {},
     "output_type": "execute_result"
    }
   ],
   "source": [
    "df = pd.DataFrame(Students, columns = ['math score', 'reading score', 'writing score']).mean()\n",
    "df"
   ]
  },
  {
   "cell_type": "markdown",
   "id": "1aa4bc94",
   "metadata": {},
   "source": [
    "Nilai rata-rata tertinggi adalah nilai membaca, yaitu 69,169. Sedangkan yang terendah adalah nilai matematika\n",
    "yaitu 66,089."
   ]
  },
  {
   "cell_type": "markdown",
   "id": "fbc12333",
   "metadata": {},
   "source": [
    "Statistik deskriptif dari math score (nilai matematika)."
   ]
  },
  {
   "cell_type": "code",
   "execution_count": 35,
   "id": "e7cbffc3",
   "metadata": {
    "scrolled": true
   },
   "outputs": [
    {
     "data": {
      "text/plain": [
       "count    1000.00000\n",
       "mean       66.08900\n",
       "std        15.16308\n",
       "min         0.00000\n",
       "25%        57.00000\n",
       "50%        66.00000\n",
       "75%        77.00000\n",
       "max       100.00000\n",
       "Name: math score, dtype: float64"
      ]
     },
     "execution_count": 35,
     "metadata": {},
     "output_type": "execute_result"
    }
   ],
   "source": [
    "#Analisis Deskriptif\n",
    "df['math score'].describe()"
   ]
  },
  {
   "cell_type": "markdown",
   "id": "718ebb9a",
   "metadata": {},
   "source": [
    "Dari hasil tersebut, dapat dilihat bahwa data math score terdiri dari 1000 data, dengan rata-rata 66,0890, standar\n",
    "deviasi 15,16 , nilai minimum 0, nilai maksimum 100, nilai kuartil 1 57, nilai kuartil 2 (median) 66, nilai kuartil 3 77."
   ]
  },
  {
   "cell_type": "code",
   "execution_count": 33,
   "id": "567c3104",
   "metadata": {},
   "outputs": [],
   "source": [
    "#Membuat DataFrame\n",
    "df = pd.DataFrame(Students, columns=['gender', 'math score'])"
   ]
  },
  {
   "cell_type": "code",
   "execution_count": 14,
   "id": "655aec44",
   "metadata": {},
   "outputs": [
    {
     "data": {
      "text/plain": [
       "Text(0, 0.5, 'Gender')"
      ]
     },
     "execution_count": 14,
     "metadata": {},
     "output_type": "execute_result"
    },
    {
     "data": {
      "image/png": "[encoded data removed]",
      "text/plain": [
       "<Figure size 432x288 with 1 Axes>"
      ]
     },
     "metadata": {
      "needs_background": "light"
     },
     "output_type": "display_data"
    }
   ],
   "source": [
    "indeks = np.array(df['gender'])\n",
    "plt.barh(indeks[1:10], df['math score'].iloc[1:10], color=\"r\")\n",
    "plt.title('Score Matematika Berdasarkan Jenis Kelamin')\n",
    "plt.xlabel('Math Score')\n",
    "plt.ylabel('Gender')"
   ]
  },
  {
   "cell_type": "markdown",
   "id": "68deccb7",
   "metadata": {},
   "source": [
    "### Soal 02: Buatlah kode agar warna grafik batang menjadi hijau"
   ]
  },
  {
   "cell_type": "code",
   "execution_count": 17,
   "id": "8d942e92",
   "metadata": {},
   "outputs": [
    {
     "data": {
      "text/plain": [
       "Text(0, 0.5, 'Gender')"
      ]
     },
     "execution_count": 17,
     "metadata": {},
     "output_type": "execute_result"
    },
    {
     "data": {
      "image/png": "[encoded data removed]",
      "text/plain": [
       "<Figure size 432x288 with 1 Axes>"
      ]
     },
     "metadata": {
      "needs_background": "light"
     },
     "output_type": "display_data"
    }
   ],
   "source": [
    "plt.barh(indeks[1:10], df['math score'][1:10], color = \"g\")\n",
    "plt.title('Score Matematika Berdasarkan Jenis Kelamin')\n",
    "plt.xlabel('Math Score')\n",
    "plt.ylabel('Gender')"
   ]
  },
  {
   "cell_type": "markdown",
   "id": "e7a6d7d2",
   "metadata": {},
   "source": [
    "### Soal 03: Buatlah kode untuk menghasilkan plot makan siang vs. score matematika!"
   ]
  },
  {
   "cell_type": "code",
   "execution_count": 25,
   "id": "38b43485",
   "metadata": {},
   "outputs": [],
   "source": [
    "df = pd.DataFrame(Students, columns = ['lunch', 'math score'])"
   ]
  },
  {
   "cell_type": "code",
   "execution_count": 26,
   "id": "b2096c17",
   "metadata": {},
   "outputs": [
    {
     "data": {
      "text/plain": [
       "Text(0, 0.5, 'Lunch')"
      ]
     },
     "execution_count": 26,
     "metadata": {},
     "output_type": "execute_result"
    },
    {
     "data": {
      "image/png": "[encoded data removed]",
      "text/plain": [
       "<Figure size 432x288 with 1 Axes>"
      ]
     },
     "metadata": {
      "needs_background": "light"
     },
     "output_type": "display_data"
    }
   ],
   "source": [
    "indeks = np.array(df['lunch'])\n",
    "plt.barh(indeks[1:10], df['math score'].iloc[1:10], color='pink')\n",
    "plt.title('Score Matematika Berdasarkan Makan Siang')\n",
    "plt.xlabel('Math Score')\n",
    "plt.ylabel('Lunch')"
   ]
  },
  {
   "cell_type": "markdown",
   "id": "d6898cb0",
   "metadata": {},
   "source": [
    "Dilihat dari plot tersebut, bahwa makan siang yang baik (dengan gizi standar) mungkin ada korelasi dengan score matematika. Para siswa yang makan siangnya tidak baik (free/reduced) nilai matematikanya cenderung rendah."
   ]
  },
  {
   "cell_type": "markdown",
   "id": "a65c7f5e",
   "metadata": {},
   "source": [
    "### Soal 04: Buatlah kode untuk membuat plot kursus vs score matematika!"
   ]
  },
  {
   "cell_type": "code",
   "execution_count": 28,
   "id": "5b44ea4b",
   "metadata": {},
   "outputs": [],
   "source": [
    "df = pd.DataFrame(Students, columns = ['test preparation course', 'math score'])"
   ]
  },
  {
   "cell_type": "code",
   "execution_count": 30,
   "id": "0c8dd8d9",
   "metadata": {},
   "outputs": [
    {
     "data": {
      "text/plain": [
       "Text(0, 0.5, 'Course')"
      ]
     },
     "execution_count": 30,
     "metadata": {},
     "output_type": "execute_result"
    },
    {
     "data": {
      "image/png": "[encoded data removed]",
      "text/plain": [
       "<Figure size 432x288 with 1 Axes>"
      ]
     },
     "metadata": {
      "needs_background": "light"
     },
     "output_type": "display_data"
    }
   ],
   "source": [
    "prep = np.array(df['test preparation course'])\n",
    "plt.barh(prep[1:10], df['math score'][1:10], color = 'brown')\n",
    "plt.title('Score Matematika Berdasarkan Kursus')\n",
    "plt.xlabel('Math Score')\n",
    "plt.ylabel('Course')"
   ]
  },
  {
   "cell_type": "markdown",
   "id": "708a0474",
   "metadata": {},
   "source": [
    "Dari hasil output tersebut, dapat diketahui bahwa siswa yang tidak mengikuti kursus justru memperoleh nilai rata-\n",
    "rata tertinggi dari pada siswa yang mengikuti kursus secara lengkap."
   ]
  },
  {
   "cell_type": "markdown",
   "id": "6a01fc6d",
   "metadata": {},
   "source": [
    "Setelah itu, kita ingin melihat persentase siswa yang mengikuti kursus dan tidak mengikuti kursus."
   ]
  },
  {
   "cell_type": "code",
   "execution_count": 31,
   "id": "31fdc65a",
   "metadata": {},
   "outputs": [
    {
     "data": {
      "text/plain": [
       "([<matplotlib.patches.Wedge at 0x1d5b1dee8e0>,\n",
       "  <matplotlib.patches.Wedge at 0x1d5b1dfe340>],\n",
       " [Text(-0.0928980267278171, -1.1963987448296984, 'none'),\n",
       "  Text(0.08515642182014209, 1.0966988574001482, 'completed')],\n",
       " [Text(-0.054190515591226646, -0.6978992678173241, '64.2%'),\n",
       "  Text(0.04644895735644114, 0.598199376763717, '35.8%')])"
      ]
     },
     "execution_count": 31,
     "metadata": {},
     "output_type": "execute_result"
    },
    {
     "data": {
      "image/png": "[encoded data removed]",
      "text/plain": [
       "<Figure size 432x288 with 1 Axes>"
      ]
     },
     "metadata": {},
     "output_type": "display_data"
    }
   ],
   "source": [
    "counts = Students['test preparation course'].value_counts()\n",
    "jumlah = [counts['none'], counts['completed']]\n",
    "labels = ['none', 'completed']\n",
    "explode = (0.1, 0)\n",
    "plt.pie(jumlah, labels = labels, explode = explode, autopct = \"%1.1f%%\", shadow = True, startangle=150)"
   ]
  },
  {
   "cell_type": "markdown",
   "id": "388a2eb2",
   "metadata": {},
   "source": [
    "Dari hasil pie chart, terlihat bahwa presentase siswa yang tidak mengikuti kursus sebanyak 64,2 % sedangkan\n",
    "untuk yang mengikuti kursus hanya 35,8 %."
   ]
  },
  {
   "cell_type": "code",
   "execution_count": 58,
   "id": "623958b0",
   "metadata": {},
   "outputs": [
    {
     "data": {
      "text/plain": [
       "([0, 1, 2, 3, 4, 5],\n",
       " [Text(0, 0, ''),\n",
       "  Text(0, 0, ''),\n",
       "  Text(0, 0, ''),\n",
       "  Text(0, 0, ''),\n",
       "  Text(0, 0, ''),\n",
       "  Text(0, 0, '')])"
      ]
     },
     "execution_count": 58,
     "metadata": {},
     "output_type": "execute_result"
    },
    {
     "data": {
      "image/png": "[encoded data removed]",
      "text/plain": [
       "<Figure size 432x288 with 1 Axes>"
      ]
     },
     "metadata": {
      "needs_background": "light"
     },
     "output_type": "display_data"
    }
   ],
   "source": [
    "fig, ax = plt.subplots()\n",
    "count = Students['parental level of education'].value_counts()\n",
    "\n",
    "ax.bar(count.index, count.values, color='#0000ff')\n",
    "ax.set_title(\"Parent's Education Level\")\n",
    "ax.set_xlabel('parental level of education')\n",
    "ax.set_ylabel('frequency')\n",
    "plt.xticks(rotation=90)"
   ]
  },
  {
   "cell_type": "markdown",
   "id": "2b5b1119",
   "metadata": {},
   "source": [
    "Dilihat dari plot diatas, pendidikan terakhir orangtua terbanyak adalah some college lebih dari 200, sedangkan\n",
    "yang terendah adalah master’s degree lebih dari 50 kurang dari 100."
   ]
  },
  {
   "cell_type": "markdown",
   "id": "acc336d4",
   "metadata": {},
   "source": [
    "### Soal 05 Buatlah kode untuk membuat frekuensi pendidikan orangtua siswa menjadi Pie Chart!"
   ]
  },
  {
   "cell_type": "code",
   "execution_count": 47,
   "id": "d8ef0a50",
   "metadata": {},
   "outputs": [
    {
     "data": {
      "text/plain": [
       "some college          226\n",
       "associate's degree    222\n",
       "high school           196\n",
       "some high school      179\n",
       "bachelor's degree     118\n",
       "master's degree        59\n",
       "Name: parental level of education, dtype: int64"
      ]
     },
     "execution_count": 47,
     "metadata": {},
     "output_type": "execute_result"
    }
   ],
   "source": [
    "Students['parental level of education'].value_counts()"
   ]
  },
  {
   "cell_type": "code",
   "execution_count": 52,
   "id": "49ed1a1e",
   "metadata": {},
   "outputs": [],
   "source": [
    "jumlah = [226,222,196,179,118,59]\n",
    "labels = [\"some college\",\"associate's degree\",\"high school\",\"some high schol\", \"bachelor's degree\", \"master's degree\"]"
   ]
  },
  {
   "cell_type": "code",
   "execution_count": 57,
   "id": "f7c8880b",
   "metadata": {
    "scrolled": true
   },
   "outputs": [
    {
     "data": {
      "text/plain": [
       "([<matplotlib.patches.Wedge at 0x1d5b32760a0>,\n",
       "  <matplotlib.patches.Wedge at 0x1d5b3276a90>,\n",
       "  <matplotlib.patches.Wedge at 0x1d5b3282490>,\n",
       "  <matplotlib.patches.Wedge at 0x1d5b3282e20>,\n",
       "  <matplotlib.patches.Wedge at 0x1d5b32907f0>,\n",
       "  <matplotlib.patches.Wedge at 0x1d5b329e1c0>],\n",
       " [Text(-1.0809453037278056, -0.2038559549014994, 'some college'),\n",
       "  Text(0.02533992170873382, -1.0997080923444165, \"associate's degree\"),\n",
       "  Text(1.0698752298246823, -0.25566969434718556, 'high school'),\n",
       "  Text(0.6456315228424806, 0.8905952709913184, 'some high schol'),\n",
       "  Text(-0.3311425556013382, 1.0489731206612565, \"bachelor's degree\"),\n",
       "  Text(-0.8349485070245188, 0.7161431355654588, \"master's degree\")],\n",
       " [Text(-0.5896065293060757, -0.11119415721899967, '22.6%'),\n",
       "  Text(0.013821775477491173, -0.5998407776424088, '22.2%'),\n",
       "  Text(0.5835683071770994, -0.13945619691664665, '19.6%'),\n",
       "  Text(0.35216264882317116, 0.48577923872253725, '17.9%'),\n",
       "  Text(-0.18062321214618446, 0.5721671567243216, '11.8%'),\n",
       "  Text(-0.45542645837701023, 0.3906235284902502, '5.9%')])"
      ]
     },
     "execution_count": 57,
     "metadata": {},
     "output_type": "execute_result"
    },
    {
     "data": {
      "image/png": "[encoded data removed]",
      "text/plain": [
       "<Figure size 432x288 with 1 Axes>"
      ]
     },
     "metadata": {},
     "output_type": "display_data"
    }
   ],
   "source": [
    "plt.pie(jumlah, labels = labels, autopct=\"%1.1f%%\", shadow=True, startangle=150)"
   ]
  },
  {
   "cell_type": "markdown",
   "id": "eb46a756",
   "metadata": {},
   "source": [
    "## Boxplot"
   ]
  },
  {
   "cell_type": "code",
   "execution_count": 72,
   "id": "4d7bd187",
   "metadata": {
    "scrolled": true
   },
   "outputs": [
    {
     "data": {
      "text/html": [
       "<div>\n",
       "<style scoped>\n",
       "    .dataframe tbody tr th:only-of-type {\n",
       "        vertical-align: middle;\n",
       "    }\n",
       "\n",
       "    .dataframe tbody tr th {\n",
       "        vertical-align: top;\n",
       "    }\n",
       "\n",
       "    .dataframe thead th {\n",
       "        text-align: right;\n",
       "    }\n",
       "</style>\n",
       "<table border=\"1\" class=\"dataframe\">\n",
       "  <thead>\n",
       "    <tr style=\"text-align: right;\">\n",
       "      <th></th>\n",
       "      <th>gender</th>\n",
       "      <th>race/ethnicity</th>\n",
       "      <th>parental level of education</th>\n",
       "      <th>lunch</th>\n",
       "      <th>test preparation course</th>\n",
       "      <th>math score</th>\n",
       "      <th>reading score</th>\n",
       "      <th>writing score</th>\n",
       "    </tr>\n",
       "  </thead>\n",
       "  <tbody>\n",
       "    <tr>\n",
       "      <th>0</th>\n",
       "      <td>female</td>\n",
       "      <td>group B</td>\n",
       "      <td>bachelor's degree</td>\n",
       "      <td>standard</td>\n",
       "      <td>none</td>\n",
       "      <td>72</td>\n",
       "      <td>72</td>\n",
       "      <td>74</td>\n",
       "    </tr>\n",
       "    <tr>\n",
       "      <th>1</th>\n",
       "      <td>female</td>\n",
       "      <td>group C</td>\n",
       "      <td>some college</td>\n",
       "      <td>standard</td>\n",
       "      <td>completed</td>\n",
       "      <td>69</td>\n",
       "      <td>90</td>\n",
       "      <td>88</td>\n",
       "    </tr>\n",
       "    <tr>\n",
       "      <th>2</th>\n",
       "      <td>female</td>\n",
       "      <td>group B</td>\n",
       "      <td>master's degree</td>\n",
       "      <td>standard</td>\n",
       "      <td>none</td>\n",
       "      <td>90</td>\n",
       "      <td>95</td>\n",
       "      <td>93</td>\n",
       "    </tr>\n",
       "    <tr>\n",
       "      <th>3</th>\n",
       "      <td>male</td>\n",
       "      <td>group A</td>\n",
       "      <td>associate's degree</td>\n",
       "      <td>free/reduced</td>\n",
       "      <td>none</td>\n",
       "      <td>47</td>\n",
       "      <td>57</td>\n",
       "      <td>44</td>\n",
       "    </tr>\n",
       "    <tr>\n",
       "      <th>4</th>\n",
       "      <td>male</td>\n",
       "      <td>group C</td>\n",
       "      <td>some college</td>\n",
       "      <td>standard</td>\n",
       "      <td>none</td>\n",
       "      <td>76</td>\n",
       "      <td>78</td>\n",
       "      <td>75</td>\n",
       "    </tr>\n",
       "  </tbody>\n",
       "</table>\n",
       "</div>"
      ],
      "text/plain": [
       "   gender race/ethnicity parental level of education         lunch  \\\n",
       "0  female        group B           bachelor's degree      standard   \n",
       "1  female        group C                some college      standard   \n",
       "2  female        group B             master's degree      standard   \n",
       "3    male        group A          associate's degree  free/reduced   \n",
       "4    male        group C                some college      standard   \n",
       "\n",
       "  test preparation course  math score  reading score  writing score  \n",
       "0                    none          72             72             74  \n",
       "1               completed          69             90             88  \n",
       "2                    none          90             95             93  \n",
       "3                    none          47             57             44  \n",
       "4                    none          76             78             75  "
      ]
     },
     "execution_count": 72,
     "metadata": {},
     "output_type": "execute_result"
    }
   ],
   "source": [
    "Students.head()"
   ]
  },
  {
   "cell_type": "markdown",
   "id": "f9bf8c12",
   "metadata": {},
   "source": [
    "### Menggunakan Pandas"
   ]
  },
  {
   "cell_type": "markdown",
   "id": "95d43695",
   "metadata": {},
   "source": [
    "Boxplot dengan memperhatikan math score sebagai sumbu Y dan dikelompokkan oleh lunch."
   ]
  },
  {
   "cell_type": "code",
   "execution_count": 73,
   "id": "86d58b89",
   "metadata": {},
   "outputs": [
    {
     "data": {
      "text/plain": [
       "<AxesSubplot:title={'center':'math score'}, xlabel='lunch'>"
      ]
     },
     "execution_count": 73,
     "metadata": {},
     "output_type": "execute_result"
    },
    {
     "data": {
      "image/png": "[encoded data removed]",
      "text/plain": [
       "<Figure size 432x288 with 1 Axes>"
      ]
     },
     "metadata": {},
     "output_type": "display_data"
    }
   ],
   "source": [
    "Students.boxplot(by = 'lunch', column = ['math score'],grid = False)"
   ]
  },
  {
   "cell_type": "markdown",
   "id": "edfad3dd",
   "metadata": {},
   "source": [
    "Boxplot dengan memperhatikan reading score sebagai sumbu Y dan dikelompokkan oleh gender."
   ]
  },
  {
   "cell_type": "code",
   "execution_count": 74,
   "id": "3582e841",
   "metadata": {},
   "outputs": [
    {
     "data": {
      "text/plain": [
       "<AxesSubplot:title={'center':'reading score'}, xlabel='gender'>"
      ]
     },
     "execution_count": 74,
     "metadata": {},
     "output_type": "execute_result"
    },
    {
     "data": {
      "image/png": "[encoded data removed]",
      "text/plain": [
       "<Figure size 432x288 with 1 Axes>"
      ]
     },
     "metadata": {},
     "output_type": "display_data"
    }
   ],
   "source": [
    "Students.boxplot(by = 'gender', column = ['reading score'],grid = False)"
   ]
  },
  {
   "cell_type": "markdown",
   "id": "aef9a9a3",
   "metadata": {},
   "source": [
    "### Menggunakan Seaborn"
   ]
  },
  {
   "cell_type": "code",
   "execution_count": 75,
   "id": "c1ce7066",
   "metadata": {},
   "outputs": [
    {
     "data": {
      "text/plain": [
       "<AxesSubplot:xlabel='gender', ylabel='math score'>"
      ]
     },
     "execution_count": 75,
     "metadata": {},
     "output_type": "execute_result"
    },
    {
     "data": {
      "image/png": "[encoded data removed]",
      "text/plain": [
       "<Figure size 432x288 with 1 Axes>"
      ]
     },
     "metadata": {},
     "output_type": "display_data"
    }
   ],
   "source": [
    "sns.set_style('whitegrid')\n",
    "sns.boxplot(x = 'gender', y='math score', data = Students)"
   ]
  },
  {
   "cell_type": "markdown",
   "id": "31c6e399",
   "metadata": {},
   "source": [
    "### Soal Bonus: Jelaskan arti boxplot total_bill dikelompokkan oleh day."
   ]
  },
  {
   "cell_type": "markdown",
   "id": "0866e4c9",
   "metadata": {},
   "source": [
    "Dalam boxplot tersebut, kita dapat mengambil beberapa kesimpulan diantaranya :\n",
    "1. Tips yang diberikan membesar setiap harinya, dan rata rata terbesar berada pada hari minggu, digambarkan dengan IQR yang bergerak naik tiap harinya.\n",
    "2. Outliers terbanyak berada pada hari kamis, dan outliers tertinggi berada pada hari sabtu\n",
    "3. Whiskers atas selalu lebih panjang dari pada whiskers bawah, yang mengartikan outliers didominasi oleh orang yang membayar lebih dari kumpulan di dalam IQR\n",
    "4. Median terendah berada pada hari Jumat, dan median tertinggi berada pada hari minggu.\n"
   ]
  },
  {
   "cell_type": "markdown",
   "id": "907316e8",
   "metadata": {},
   "source": [
    "### Buat Box Plot untuk setiap variabel numerikal yang ada. Jelaskan masing-masing!"
   ]
  },
  {
   "cell_type": "code",
   "execution_count": 66,
   "id": "870371b3",
   "metadata": {},
   "outputs": [
    {
     "data": {
      "text/plain": [
       "<AxesSubplot:xlabel='math score'>"
      ]
     },
     "execution_count": 66,
     "metadata": {},
     "output_type": "execute_result"
    },
    {
     "data": {
      "image/png": "[encoded data removed]",
      "text/plain": [
       "<Figure size 432x288 with 1 Axes>"
      ]
     },
     "metadata": {},
     "output_type": "display_data"
    }
   ],
   "source": [
    "sns.set_style('whitegrid')\n",
    "sns.boxplot(x='math score', data = Students)"
   ]
  },
  {
   "cell_type": "markdown",
   "id": "f9c6e41c",
   "metadata": {},
   "source": [
    "Penjelasan : \n",
    "1. Pada boxplot terlihat bahwa outliers terletak dibawah nilai minimum\n",
    "2. Kuartil satu berada antara 50 sampai 60\n",
    "3. Median berada diantara 60 sampai 70\n",
    "4. Kuartil tiga berada diantara 70 sampai 80\n",
    "5. Nilai Maksimum berada di 100 dan minimum berada diantara 20 sampai 40"
   ]
  },
  {
   "cell_type": "code",
   "execution_count": 69,
   "id": "9b1a6e4d",
   "metadata": {},
   "outputs": [
    {
     "data": {
      "text/plain": [
       "<AxesSubplot:xlabel='reading score'>"
      ]
     },
     "execution_count": 69,
     "metadata": {},
     "output_type": "execute_result"
    },
    {
     "data": {
      "image/png": "[encoded data removed]",
      "text/plain": [
       "<Figure size 432x288 with 1 Axes>"
      ]
     },
     "metadata": {},
     "output_type": "display_data"
    }
   ],
   "source": [
    "sns.set_style('whitegrid')\n",
    "sns.boxplot(x='reading score', data = Students)"
   ]
  },
  {
   "cell_type": "markdown",
   "id": "a2d24f19",
   "metadata": {},
   "source": [
    "Penjelasan : \n",
    "1. Pada boxplot terlihat bahwa outliers terletak dibawah nilai minimum\n",
    "2. Kuartil satu berada antara 50 sampai 60\n",
    "3. Median berada diantara 70 sampai 80\n",
    "4. Kuartil tiga berada diantara 70 sampai 80\n",
    "5. Nilai Maksimum berada di 100 dan minimum berada diantara 20 sampai 40"
   ]
  },
  {
   "cell_type": "code",
   "execution_count": 80,
   "id": "a8cc6d17",
   "metadata": {},
   "outputs": [
    {
     "data": {
      "text/plain": [
       "<AxesSubplot:xlabel='writing score'>"
      ]
     },
     "execution_count": 80,
     "metadata": {},
     "output_type": "execute_result"
    },
    {
     "data": {
      "image/png": "[encoded data removed]",
      "text/plain": [
       "<Figure size 432x288 with 1 Axes>"
      ]
     },
     "metadata": {},
     "output_type": "display_data"
    }
   ],
   "source": [
    "sns.set_style('whitegrid')\n",
    "sns.boxplot(x='writing score', data = Students)"
   ]
  },
  {
   "cell_type": "markdown",
   "id": "ab249edf",
   "metadata": {},
   "source": [
    "Penjelasan : \n",
    "1. Pada boxplot terlihat bahwa outliers terletak dibawah nilai minimum\n",
    "2. Kuartil satu berada antara 50 sampai 60\n",
    "3. Median berada diantara 60 sampai 80\n",
    "4. Kuartil tiga berada diantara 70 sampai 80\n",
    "5. Nilai Maksimum berada di 100 dan minimum berada diantara 20 sampai 40"
   ]
  }
 ],
 "metadata": {
  "kernelspec": {
   "display_name": "Python 3 (ipykernel)",
   "language": "python",
   "name": "python3"
  },
  "language_info": {
   "codemirror_mode": {
    "name": "ipython",
    "version": 3
   },
   "file_extension": ".py",
   "mimetype": "text/x-python",
   "name": "python",
   "nbconvert_exporter": "python",
   "pygments_lexer": "ipython3",
   "version": "3.9.6"
  }
 },
 "nbformat": 4,
 "nbformat_minor": 5
}
